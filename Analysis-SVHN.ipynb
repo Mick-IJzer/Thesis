{
 "cells": [
  {
   "cell_type": "code",
   "execution_count": 1,
   "metadata": {},
   "outputs": [],
   "source": [
    "import pickle\n",
    "import numpy as np\n",
    "import pandas as pd\n",
    "import torch\n",
    "import matplotlib.pyplot as plt\n",
    "from PIL import Image\n",
    "import torchvision.transforms.functional as TF\n"
   ]
  },
  {
   "cell_type": "code",
   "execution_count": 4,
   "metadata": {},
   "outputs": [],
   "source": [
    "dataset = 'SVHN'\n",
    "archs = ['conv']\n",
    "variants = ['NormalTrue', 'RandomNetTrue', 'RandomNetFalse', 'RKSFalse']\n",
    "priors = ['Flow10']"
   ]
  },
  {
   "cell_type": "code",
   "execution_count": 5,
   "metadata": {},
   "outputs": [],
   "source": [
    "arrays = [['Architecture', 'Variant', 'Partial', 'Prior', 'Comp_time (mean)', \n",
    "           'Comp_time (std)', 'n_weights', 'losses', 'RE', 'stdn']]\n",
    "for arch in archs:\n",
    "    for prior in priors:\n",
    "        for variant in variants:\n",
    "            info = pickle.load(open(f'{dataset}/{arch}/{variant}/{prior}/info.p', 'rb'))\n",
    "            array = [arch, info['Variant'], info['Partial'], info['Prior']+str(info['flows']), \n",
    "                     round(np.asarray(info['Times']).mean(), 2), round(np.asarray(info['Times']).std(), 3),\n",
    "                     info['n_weights'].item(), info['losses'][-1], \n",
    "                     info['RE'][-1], info['stdn'][-1]]\n",
    "            arrays.append(array)"
   ]
  },
  {
   "cell_type": "code",
   "execution_count": 6,
   "metadata": {},
   "outputs": [
    {
     "data": {
      "text/html": [
       "<div>\n",
       "<style scoped>\n",
       "    .dataframe tbody tr th:only-of-type {\n",
       "        vertical-align: middle;\n",
       "    }\n",
       "\n",
       "    .dataframe tbody tr th {\n",
       "        vertical-align: top;\n",
       "    }\n",
       "\n",
       "    .dataframe thead th {\n",
       "        text-align: right;\n",
       "    }\n",
       "</style>\n",
       "<table border=\"1\" class=\"dataframe\">\n",
       "  <thead>\n",
       "    <tr style=\"text-align: right;\">\n",
       "      <th></th>\n",
       "      <th>Architecture</th>\n",
       "      <th>Variant</th>\n",
       "      <th>Partial</th>\n",
       "      <th>Prior</th>\n",
       "      <th>Comp_time (mean)</th>\n",
       "      <th>Comp_time (std)</th>\n",
       "      <th>n_weights</th>\n",
       "      <th>losses</th>\n",
       "      <th>RE</th>\n",
       "      <th>stdn</th>\n",
       "      <th>KL</th>\n",
       "    </tr>\n",
       "  </thead>\n",
       "  <tbody>\n",
       "    <tr>\n",
       "      <th>0</th>\n",
       "      <td>conv</td>\n",
       "      <td>Normal</td>\n",
       "      <td>True</td>\n",
       "      <td>Flow10</td>\n",
       "      <td>4.33</td>\n",
       "      <td>0.099</td>\n",
       "      <td>35131</td>\n",
       "      <td>-626.77</td>\n",
       "      <td>7.09</td>\n",
       "      <td>-1.48</td>\n",
       "      <td>633.86</td>\n",
       "    </tr>\n",
       "    <tr>\n",
       "      <th>1</th>\n",
       "      <td>conv</td>\n",
       "      <td>RandomNet</td>\n",
       "      <td>True</td>\n",
       "      <td>Flow10</td>\n",
       "      <td>3.55</td>\n",
       "      <td>0.082</td>\n",
       "      <td>34974</td>\n",
       "      <td>-622.49</td>\n",
       "      <td>11.31</td>\n",
       "      <td>-1.57</td>\n",
       "      <td>633.80</td>\n",
       "    </tr>\n",
       "    <tr>\n",
       "      <th>2</th>\n",
       "      <td>conv</td>\n",
       "      <td>RandomNet</td>\n",
       "      <td>False</td>\n",
       "      <td>Flow10</td>\n",
       "      <td>3.99</td>\n",
       "      <td>0.071</td>\n",
       "      <td>34808</td>\n",
       "      <td>-611.68</td>\n",
       "      <td>21.67</td>\n",
       "      <td>-1.17</td>\n",
       "      <td>633.35</td>\n",
       "    </tr>\n",
       "    <tr>\n",
       "      <th>3</th>\n",
       "      <td>conv</td>\n",
       "      <td>RKS</td>\n",
       "      <td>False</td>\n",
       "      <td>Flow10</td>\n",
       "      <td>3.39</td>\n",
       "      <td>0.194</td>\n",
       "      <td>34808</td>\n",
       "      <td>-622.41</td>\n",
       "      <td>7.54</td>\n",
       "      <td>-4.57</td>\n",
       "      <td>629.95</td>\n",
       "    </tr>\n",
       "  </tbody>\n",
       "</table>\n",
       "</div>"
      ],
      "text/plain": [
       "  Architecture    Variant  Partial   Prior  Comp_time (mean)  Comp_time (std)  \\\n",
       "0         conv     Normal     True  Flow10              4.33            0.099   \n",
       "1         conv  RandomNet     True  Flow10              3.55            0.082   \n",
       "2         conv  RandomNet    False  Flow10              3.99            0.071   \n",
       "3         conv        RKS    False  Flow10              3.39            0.194   \n",
       "\n",
       "   n_weights  losses     RE  stdn      KL  \n",
       "0      35131 -626.77   7.09 -1.48  633.86  \n",
       "1      34974 -622.49  11.31 -1.57  633.80  \n",
       "2      34808 -611.68  21.67 -1.17  633.35  \n",
       "3      34808 -622.41   7.54 -4.57  629.95  "
      ]
     },
     "execution_count": 6,
     "metadata": {},
     "output_type": "execute_result"
    }
   ],
   "source": [
    "df = pd.DataFrame(arrays[1:], columns=arrays[0])\n",
    "df['KL'] =  -(df['losses'] - df['RE'])\n",
    "\n",
    "df"
   ]
  }
 ],
 "metadata": {
  "kernelspec": {
   "display_name": "Python 3",
   "language": "python",
   "name": "python3"
  },
  "language_info": {
   "codemirror_mode": {
    "name": "ipython",
    "version": 3
   },
   "file_extension": ".py",
   "mimetype": "text/x-python",
   "name": "python",
   "nbconvert_exporter": "python",
   "pygments_lexer": "ipython3",
   "version": "3.7.4"
  }
 },
 "nbformat": 4,
 "nbformat_minor": 2
}
